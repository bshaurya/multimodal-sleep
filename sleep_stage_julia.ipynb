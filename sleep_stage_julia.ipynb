{
 "cells": [
  {
   "cell_type": "code",
   "execution_count": null,
   "metadata": {},
   "outputs": [],
   "source": [
    "using InteractiveUtils\n",
    "versioninfo()"
   ]
  },
  {
   "cell_type": "code",
   "execution_count": null,
   "metadata": {},
   "outputs": [],
   "source": [
    "using Pkg\n",
    "Pkg.add([\"CSV\", \"DataFrames\", \"MLJ\", \"MLJFlux\", \"Flux\", \"Plots\", \"StatsBase\", \"CategoricalArrays\", \"MLJBase\",\"Glob\"])\n",
    "Pkg.add([\"DecisionTree\",\"EvoTrees\",\"MLJ\",\"MLJFlux\",\"Flux\",\"StatsBase\",\"MLJDecisionTreeInterface\",\"NearestNeighborModels\",\"MLJLinearModels\",\"LIBSVM\",\"EvoTrees\",\"LightGBM\",\"MLJLIBSVMInterface\",\"MLJLightGBMInterface\",\"MLJDecisionTreeInterface\",\"MLJLinearModels\",\"MLJFlux\",\"MLJNeuralNetworks\",\"MLJModels\",\"MLJBase\",\"MLJModelInterface\",\"MLJModelInterfaceUtils\",\"Glob\"])"
   ]
  },
  {
   "cell_type": "code",
   "execution_count": null,
   "metadata": {},
   "outputs": [],
   "source": [
    "using CSV,DataFrames, MLJ, Flux,Plots,StatsBase,CategoricalArrays,MLJFlux"
   ]
  },
  {
   "cell_type": "code",
   "execution_count": null,
   "metadata": {},
   "outputs": [],
   "source": [
    "import Glob\n",
    "path = \"./cleaneddata\"\n",
    "files = Glob.glob(\"S*_cleaned_domain_features.csv\", path)\n",
    "df_all = DataFrame[]\n",
    "for file in files\n",
    "    push!(df_all,CSV.read(file,DataFrame))\n",
    "end \n",
    "\n",
    "data = reduce(vcat,df_all)\n",
    "first(data,5)"
   ]
  },
  {
   "cell_type": "code",
   "execution_count": null,
   "metadata": {},
   "outputs": [],
   "source": [
    "if \"sid\" in names(data)\n",
    "    select!(data, Not(:sid))\n",
    "end\n",
    "\n",
    "foreach(col -> replace!(col, missing => 0.0), eachcol(data))\n",
    "\n",
    "valid_stages = [\"W\",\"N\",\"R\"]\n",
    "data = filter(row -> row.Sleep_Stage in valid_stages, data)\n",
    "label_mapping = Dict(\"W\"=> \"Wake\", \"N\" => \"NREM\", \"R\" => \"REM\")\n",
    "data.Sleep_Stage = CategoricalArray([label_mapping[String(x)] for x in data.Sleep_Stage])\n",
    "\n",
    "y = data.Sleep_Stage\n",
    "X = select(data, Not(:Sleep_Stage))"
   ]
  },
  {
   "cell_type": "code",
   "execution_count": null,
   "metadata": {},
   "outputs": [],
   "source": [
    "using MLJ, MLJFlux, Flux, StatsBase, DataFrames, CategoricalArrays\n",
    "using DecisionTree, NearestNeighborModels, MLJLinearModels, LIBSVM, EvoTrees\n",
    "\n",
    "@load DecisionTreeClassifier pkg=DecisionTree\n",
    "@load KNNClassifier pkg=NearestNeighborModels\n",
    "@load LogisticClassifier pkg=MLJLinearModels\n",
    "@load SVC pkg=LIBSVM\n",
    "@load EvoTreeClassifier pkg=EvoTrees\n",
    "\n",
    "input_dim = size(X, 2)\n",
    "output_dim = length(levels(y))\n",
    "deep_net = Chain(\n",
    "    Dense(input_dim, 128, relu),\n",
    "    Dense(128, 64, relu),\n",
    "    Dense(64, output_dim),\n",
    "    Flux.softmax\n",
    ")\n",
    "deep_builder = MLJFlux.GenericBuilder(deep_net)\n",
    "\n",
    "model_list = [\n",
    "    Standardizer() |> DecisionTreeClassifier(max_depth=3),\n",
    "    Standardizer() |> KNNClassifier(K=5),\n",
    "    Standardizer() |> LogisticClassifier(),\n",
    "    Standardizer() |> SVC(),\n",
    "    Standardizer() |> EvoTreeClassifier(nrounds=100),\n",
    "    Standardizer() |> NeuralNetworkClassifier(\n",
    "        builder=deep_builder, \n",
    "        loss=Flux.Losses.crossentropy, \n",
    "        optimiser=Flux.ADAM(), \n",
    "        epochs=20\n",
    "    )\n",
    "]\n",
    "\n",
    "cv = CV(nfolds=3, shuffle=true)\n",
    "\n",
    "for model in model_list\n",
    "    println(\"\\n▶ Evaluating: \", model)\n",
    "    try\n",
    "        mach = machine(model, X, y)\n",
    "        res = evaluate!(mach, resampling=cv,\n",
    "            measures=[accuracy, macro_f1score, micro_f1score, cross_entropy],\n",
    "            verbosity=0)\n",
    "        acc = round(mean(res.measurement[1]), digits=4)\n",
    "        println(\"→ Accuracy: \", acc)\n",
    "\n",
    "        MLJ.fit!(mach)\n",
    "        model_name = string(typeof(model).name.name)\n",
    "        filename = model_name * \".jls\"\n",
    "        MLJ.save(filename, mach)\n",
    "        println(\"Saved model to $filename\")\n",
    "\n",
    "        ŷ = predict_mode(mach, X)\n",
    "        cm = confusion_matrix(y, ŷ)\n",
    "        println(\"Confusion Matrix:\\n\", cm)\n",
    "    catch err\n",
    "        println(\"Error with model $(model): \", err)\n",
    "    end\n",
    "end"
   ]
  },
  {
   "cell_type": "code",
   "execution_count": null,
   "metadata": {},
   "outputs": [],
   "source": [
    "import Pkg; Pkg.add(\"DecisionTree\")\n",
    "import Pkg; Pkg.add(\"NearestNeighborModels\")\n",
    "import Pkg; Pkg.add(\"MLJLinearModels\")\n",
    "import Pkg; Pkg.add(\"LIBSVM\")\n",
    "import Pkg; Pkg.add(\"EvoTrees\")\n",
    "import Pkg; Pkg.add(\"MLJDecisionTreeInterface\")"
   ]
  }
 ],
 "metadata": {
  "language_info": {
   "name": "python"
  }
 },
 "nbformat": 4,
 "nbformat_minor": 2
}
