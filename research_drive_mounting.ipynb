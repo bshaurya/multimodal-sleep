{
 "cells": [
  {
   "cell_type": "code",
   "execution_count": 7,
   "metadata": {},
   "outputs": [],
   "source": [
    "!pip install mne --quiet"
   ]
  },
  {
   "cell_type": "code",
   "execution_count": null,
   "metadata": {},
   "outputs": [],
   "source": [
    "from google.colab import drive\n",
    "drive.mount('/content/drive')"
   ]
  },
  {
   "cell_type": "code",
   "execution_count": null,
   "metadata": {},
   "outputs": [],
   "source": [
    "#imports\n",
    "import os\n",
    "import numpy as np\n",
    "import mne"
   ]
  },
  {
   "cell_type": "code",
   "execution_count": null,
   "metadata": {},
   "outputs": [],
   "source": [
    "stage_map = {\n",
    "    \"W\":0,\n",
    "    \"1\":1,\n",
    "    \"2\":2,\n",
    "    \"3\":3,\n",
    "    \"4\":3,\n",
    "    \"R\":4\n",
    "}"
   ]
  },
  {
   "cell_type": "code",
   "execution_count": null,
   "metadata": {},
   "outputs": [],
   "source": [
    "def load_and_segment(path_psg,path_hyp,subject_id):\n",
    "    raw = mne.io.read_raw_edf(path_psg, preload=True, stim_channel=None, verbose = False)\n",
    "    raw.pick_types(eeg=True,eog=True,emg=True)\n",
    "\n",
    "    sfreq = raw.info[\"sfreq\"]\n",
    "    sig_eeg = raw.get_data(picks=\"eeg\")\n",
    "    sig_eog = raw.get_data(picks=\"eog\")\n",
    "    sig_emg = raw.get_data(picks=\"emg\")\n",
    "\n",
    "    ann = mne.read_annotations(path_hyp)\n",
    "\n",
    "    Xe,Xo,Xm,labs,subs = [],[],[],[],[]\n",
    "\n",
    "    epoch_len = int(30*sfreq) #30 second windows\n",
    "    for onset,desc in zip(ann.onset, ann.description):\n",
    "        char = desc.split()[-1]\n",
    "        if char in stage_map: #skipping M\n",
    "            start = int(onset * sfreq)\n",
    "\n",
    "            if start + epoch_len <= sig_eeg.shape[1]:\n",
    "                seg_eeg = sig_eeg[:, start:start + epoch_len]\n",
    "                seg_eog = sig_eog[:, start:start + epoch_len]\n",
    "                seg_emg = sig_emg[:, start:start + epoch_len]\n",
    "\n",
    "                Xe.append(seg_eeg.T)\n",
    "                Xo.append(seg_eog.T)\n",
    "                Xm.append(seg_emg.T)\n",
    "                #turns to  3000,n_ch\n",
    "                labs.append(stage_map[char])\n",
    "                subs.append(subject_id)\n",
    "\n",
    "    return np.array(Xe), np.array(Xo), np.array(Xm), np.array(labs), np.array(subs)\n"
   ]
  },
  {
   "cell_type": "code",
   "execution_count": null,
   "metadata": {},
   "outputs": [],
   "source": [
    "base_dir = \"/content/drive/My Drive/sleep-edf\"\n",
    "data_dir = base_dir\n",
    "all_Xe, all_Xo, all_Xm, all_y,all_subj = [], [], [], [], []\n",
    "\n",
    "max_files = 5\n",
    "file_c = 0\n",
    "\n",
    "for subset in [\"sleep-cassette\",\"sleep-telemetry\"]:\n",
    "    subdir = os.path_join(data_dir, subset)\n",
    "    for fname in os.listdir(subdir):\n",
    "        if fname.endswith(\"PSG.edf\"):\n",
    "            psg_path = os.path.join(subdir, fname)\n",
    "            prefix = fname.replace(\"-PSG.edf\", \"\")\n",
    "            hyp_files = [f for f in os.listdir(subdir) if f.startswith(prefix[:-1]) and f.endswith(\"Hypnogram.edf\")]\n",
    "\n",
    "            if not hyp_files:\n",
    "                continue\n",
    "\n",
    "            hyp_path = os.path.join(subdir, hyp_files[0])\n",
    "            subj_str = prefix[3:5] if subset == \"sleep-cassette\" else prefix[3:5]\n",
    "            subj_id = int(subj_str)\n",
    "\n",
    "            Xe,Xo, Xm,labs,subs = load_and_segment(psg_path, hyp_path, subj_id)\n",
    "            all_Xe.append(Xe);all_Xo.append(Xo);all_Xm.append(Xm);all_y.append(labs);all_subj.append(subs)\n",
    "            \n",
    "            file_c += 1\n",
    "            if file_c >= max_files:\n",
    "                break\n",
    "    if file_c >= max_files:\n",
    "        break\n",
    "\n",
    "X_eeg, X_eog,X_emg, y, subjects = np.vstack(all_Xe),np.vstack(all_Xo),np.vstack(all_Xm),np.concatenate(all_y),np.concatenate(all_subj)\n",
    "\n",
    "print(f\"Total epochs: {len(y)} (EEG shape: {X_eeg.shape}, EOG shape: {X_eog.shape}, EMG shape: {X_emg.shape})\")\n",
    "print(f\"class distrib: {np.bincount(y)}\")\n",
    "print(f\"# of subjects: {len(set(subjects))}\")"
   ]
  },
  {
   "cell_type": "code",
   "execution_count": null,
   "metadata": {},
   "outputs": [],
   "source": [
    "from sklearn.model_selection import train_test_split"
   ]
  },
  {
   "cell_type": "code",
   "execution_count": null,
   "metadata": {},
   "outputs": [],
   "source": [
    "unique_subj, train_subj,test_subj = np.unique(subjects), train_test_split(np.unique(subjects), test_size=0.2, random_state=42)\n",
    "\n",
    "train_mask = np.isin(subjects, train_subj)\n",
    "test_mask = np.isin(subjects, test_subj)\n",
    "\n",
    "Xe_train, Xe_test, Xo_train, Xo_test, Xm_train,Xm_test,y_train, y_test = X_eeg[train_mask], X_eeg[test_mask], X_eog[train_mask], X_eog[test_mask], X_emg[train_mask], X_emg[test_mask], y[train_mask], y[test_mask]\n",
    "\n",
    "print(f\"Train subj: {len(train_subj)},test subj: {len(test_subj)}\")\n",
    "print(f\"Train epochs: {len(y_train)}, Test epochs: {len(y_test)}\")\n",
    "print(f\"Train class #: {np.bincount(y_train)}\")"
   ]
  },
  {
   "cell_type": "code",
   "execution_count": null,
   "metadata": {},
   "outputs": [],
   "source": [
    "!pip install tensorflow --quiet"
   ]
  },
  {
   "cell_type": "code",
   "execution_count": null,
   "metadata": {},
   "outputs": [],
   "source": [
    "from tensorflow.keras.models import Model\n",
    "from tensorflow.keras.layers import Input, Conv1D,BatchNormalization,Activation,MaxPooling1D,GlobalAveragePooling1D,Dense,concatenate"
   ]
  },
  {
   "cell_type": "code",
   "execution_count": null,
   "metadata": {},
   "outputs": [],
   "source": [
    "n_eeg, n_eog,n_emg = Xe_train.shape[2], Xo_train.shape[2], Xm_train.shape[2]\n",
    "input_eeg,input_eog,input_emg = Input(shape=(3000, n_eeg)), Input(shape=(3000, n_eog)), Input(shape=(3000, n_emg))\n",
    "\n",
    "def build_branch(input_tensor,filters =16):\n",
    "    x = Conv1D(filters, 64, padding='same')(input_tensor)\n",
    "    x = BatchNormalization()(x); x = Activation('relu')(x)\n",
    "    x = MaxPooling1D(4)(x)\n",
    "    x = Conv1D(filters*2, 32, padding='same')(x)\n",
    "    x = BatchNormalization()(x); x = Activation('relu')(x)\n",
    "    x = MaxPooling1D(4)(x)\n",
    "    x =GlobalAveragePooling1D()(x)\n",
    "    return x\n",
    "\n",
    "branch_eeg,branch_eog,branch_emg = build_branch(input_eeg, filters=16), build_branch(input_eog, filters=8), build_branch(input_emg, filters=8)\n",
    "merged = concatenate([branch_eeg, branch_eog, branch_emg])\n",
    "output = Dense(64, activation='softmax')(merged)\n",
    "output = Dense(5, activation='softmax')(output)\n",
    "\n",
    "model = Model(inputs=[input_eeg, input_eog, input_emg], outputs=output)\n",
    "model.compile(optimizer='adam', loss='sparse_categorical_crossentropy', metrics=['accuracy'])\n",
    "model.summary()"
   ]
  },
  {
   "cell_type": "code",
   "execution_count": null,
   "metadata": {},
   "outputs": [],
   "source": [
    "perm = np.random.RandomState(0).permutation(len(y_train))\n",
    "Xe_train, Xo_train, Xm_train, y_train = Xe_train[perm], Xo_train[perm], Xm_train[perm], y_train[perm]\n",
    "history = model.fit(\n",
    "    [Xe_train,Xo_train,Xm_train], y_train,\n",
    "    epochs=20,batch_size=64,validation_split=0.1, verbose=2\n",
    ")"
   ]
  },
  {
   "cell_type": "code",
   "execution_count": null,
   "metadata": {},
   "outputs": [],
   "source": [
    "from sklearn.metrics import confusion_matrix, accuracy_score"
   ]
  },
  {
   "cell_type": "code",
   "execution_count": null,
   "metadata": {},
   "outputs": [],
   "source": [
    "y_pred = model.predict([Xe_test,Xo_test,Xm_test]).argmax(axis=1)\n",
    "acc = accuracy_score(y_test, y_pred)\n",
    "cm = confusion_matrix(y_test, y_pred)\n",
    "print(f\"Test accuracy: {acc:.4f}\")\n",
    "print(\"Confusion Matrix: (rows = true, cols=predicted:\\n)\",cm)"
   ]
  },
  {
   "cell_type": "code",
   "execution_count": null,
   "metadata": {},
   "outputs": [],
   "source": [
    "Xo_test_zero = np.zeros_like(Xo_test)\n",
    "y_pred_no_eog = model.predict([Xe_test,Xo_test_zero,Xm_test]).argmax(axis=1)\n",
    "acc_no_eog = accuracy_score(y_test, y_pred_no_eog)\n",
    "print(f\"Test accuracy without EOG: {acc_no_eog:.4f}\")\n",
    "cm_no_eog = confusion_matrix(y_test, y_pred_no_eog)\n",
    "print(\"Confusion Matrix without EOG:\\n)\",cm_no_eog)"
   ]
  }
 ],
 "metadata": {
  "kernelspec": {
   "display_name": "Python 3",
   "language": "python",
   "name": "python3"
  },
  "language_info": {
   "codemirror_mode": {
    "name": "ipython",
    "version": 3
   },
   "file_extension": ".py",
   "mimetype": "text/x-python",
   "name": "python",
   "nbconvert_exporter": "python",
   "pygments_lexer": "ipython3",
   "version": "3.11.11"
  }
 },
 "nbformat": 4,
 "nbformat_minor": 2
}
